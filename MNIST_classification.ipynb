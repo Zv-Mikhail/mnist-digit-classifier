{
 "cells": [
  {
   "cell_type": "markdown",
   "id": "6ee1f457",
   "metadata": {},
   "source": [
    "## MNIST"
   ]
  },
  {
   "cell_type": "code",
   "execution_count": 1,
   "id": "72611075",
   "metadata": {},
   "outputs": [],
   "source": [
    "#загрузка библиотек \n",
    "import torch\n",
    "import torch.nn as nn\n",
    "from torchvision import datasets, transforms\n",
    "import matplotlib.pyplot as plt\n",
    "from torch.utils.data import DataLoader"
   ]
  },
  {
   "cell_type": "code",
   "execution_count": 3,
   "id": "fb786d10",
   "metadata": {},
   "outputs": [],
   "source": [
    "raw_data = datasets.MNIST(root='.', train=True, download=True)"
   ]
  },
  {
   "cell_type": "code",
   "execution_count": 4,
   "id": "93488d7b",
   "metadata": {},
   "outputs": [
    {
     "data": {
      "image/png": "[encoded data removed]",
      "text/plain": [
       "<Figure size 1000x800 with 20 Axes>"
      ]
     },
     "metadata": {},
     "output_type": "display_data"
    }
   ],
   "source": [
    "rand = torch.randint(0,len(raw_data),(20,))\n",
    "fig, axes = plt.subplots(4, 5, figsize = (10,8))\n",
    "\n",
    "for i, ind in enumerate(rand):\n",
    "    image , number = raw_data[ind]\n",
    "    row, col = divmod(i,5)\n",
    "    axes[row,col].imshow(image,cmap= 'gray')\n",
    "    axes[row,col].set_title(number)\n",
    "    axes[row,col].axis('off')\n",
    "\n",
    "plt.tight_layout()\n",
    "plt.show()"
   ]
  },
  {
   "cell_type": "code",
   "execution_count": 5,
   "id": "1ec1439e",
   "metadata": {},
   "outputs": [],
   "source": [
    "transform = transforms.Compose([\n",
    "    transforms.ToTensor(), \n",
    "    transforms.Lambda(lambda x :  x.view(-1)) \n",
    "]) \n",
    "train_data = datasets.MNIST(root='.', train=True, download=True, transform= transform)\n",
    "test_data = datasets.MNIST(root='.',train=False,download=True, transform = transform)\n",
    "train_loader = DataLoader(train_data,64,shuffle= True)\n",
    "test_loader = DataLoader(test_data,64)"
   ]
  },
  {
   "cell_type": "code",
   "execution_count": 6,
   "id": "f21f8faa",
   "metadata": {},
   "outputs": [
    {
     "name": "stdout",
     "output_type": "stream",
     "text": [
      "torch.Size([64, 784]) torch.Size([64])\n"
     ]
    }
   ],
   "source": [
    "#проверка размера batch\n",
    "for batch in train_loader:\n",
    "    inputs, labels = batch\n",
    "    print(inputs.shape, labels.shape)\n",
    "    break\n"
   ]
  },
  {
   "cell_type": "code",
   "execution_count": 7,
   "id": "7f87830f",
   "metadata": {},
   "outputs": [],
   "source": [
    "#модель\n",
    "class MyNeuraNet(nn.Module):\n",
    "    def __init__(self):\n",
    "        super().__init__()\n",
    "        self.model = nn.Sequential(\n",
    "            nn.Linear(784,256),\n",
    "            nn.ReLU(),\n",
    "            nn.Linear(256,128),\n",
    "            nn.ReLU(),\n",
    "            nn.Linear(128,64),\n",
    "            nn.ReLU(),\n",
    "            nn.Linear(64,10)\n",
    "        )\n",
    "    def forward(self,x):\n",
    "        return self.model(x)"
   ]
  },
  {
   "cell_type": "code",
   "execution_count": 8,
   "id": "71f125f5",
   "metadata": {},
   "outputs": [
    {
     "name": "stdout",
     "output_type": "stream",
     "text": [
      "torch.Size([10])\n",
      "tensor([-1.3565e+01,  2.0573e-02,  1.5519e+01,  1.0541e+01, -2.6461e+01,\n",
      "         2.9445e+01, -4.4212e+01,  4.3118e+01, -6.3949e+00,  9.2695e+00],\n",
      "       grad_fn=<ViewBackward0>)\n",
      "tensor([2.4152e-25, 1.9185e-19, 1.0326e-12, 7.1113e-15, 6.0582e-31, 1.1528e-06,\n",
      "        1.1834e-38, 1.0000e+00, 3.1389e-22, 1.9941e-15],\n",
      "       grad_fn=<SoftmaxBackward0>)\n"
     ]
    },
    {
     "name": "stderr",
     "output_type": "stream",
     "text": [
      "/var/folders/gj/56f54n8n2sqbwjncq6lzjn_r0000gn/T/ipykernel_67579/299119752.py:3: UserWarning: torch.range is deprecated and will be removed in a future release because its behavior is inconsistent with Python's range builtin. Instead, use torch.arange, which produces values in [start, end).\n",
      "  x = torch.range(1,784)\n"
     ]
    }
   ],
   "source": [
    "#проверка вывода\n",
    "model = MyNeuraNet()\n",
    "x = torch.range(1,784)\n",
    "\n",
    "outputs = model(x) \n",
    "print(outputs.shape)\n",
    "print(outputs)\n",
    "print(torch.softmax(outputs, dim = 0))\n"
   ]
  },
  {
   "cell_type": "code",
   "execution_count": 9,
   "id": "b59623ef",
   "metadata": {},
   "outputs": [
    {
     "name": "stdout",
     "output_type": "stream",
     "text": [
      "Epoch 1 - Loss: 0.3080\n",
      "Epoch 2 - Loss: 0.1143\n",
      "Epoch 3 - Loss: 0.0774\n",
      "Epoch 4 - Loss: 0.0586\n",
      "Epoch 5 - Loss: 0.0458\n",
      "Epoch 6 - Loss: 0.0337\n",
      "Epoch 7 - Loss: 0.0303\n",
      "Epoch 8 - Loss: 0.0245\n",
      "Epoch 9 - Loss: 0.0229\n",
      "Epoch 10 - Loss: 0.0202\n",
      "Epoch 11 - Loss: 0.0171\n",
      "Epoch 12 - Loss: 0.0153\n",
      "Epoch 13 - Loss: 0.0164\n",
      "Epoch 14 - Loss: 0.0123\n",
      "Epoch 15 - Loss: 0.0112\n",
      "Epoch 16 - Loss: 0.0109\n",
      "Epoch 17 - Loss: 0.0133\n",
      "Epoch 18 - Loss: 0.0087\n",
      "Epoch 19 - Loss: 0.0082\n",
      "Epoch 20 - Loss: 0.0108\n"
     ]
    }
   ],
   "source": [
    "loss_fn = nn.CrossEntropyLoss()\n",
    "optimizer = torch.optim.Adam(model.parameters(), lr=0.001)\n",
    "\n",
    "for epoch in range (20):\n",
    "    total_loss = 0 \n",
    "    for batch in train_loader:\n",
    "        inputs, labels = batch \n",
    "        outputs = model(inputs) # прямой проход\n",
    "        loss = loss_fn(outputs, labels) # считаем прямой проход\n",
    "\n",
    "        optimizer.zero_grad() #обнуляем градиенты\n",
    "        loss.backward() # обратный проход \n",
    "        optimizer.step() # обновляем веса\n",
    "\n",
    "        total_loss += loss.item()\n",
    "    avg_loss = total_loss / len(train_loader)\n",
    "    print(f'Epoch {epoch + 1} - Loss: {avg_loss:.4f}')\n"
   ]
  },
  {
   "cell_type": "code",
   "execution_count": 10,
   "id": "90f30436",
   "metadata": {},
   "outputs": [
    {
     "name": "stdout",
     "output_type": "stream",
     "text": [
      "\n",
      "Общая точность: 0.9806\n",
      "Точность для 0: 0.9929\n",
      "Точность для 1: 0.9894\n",
      "Точность для 2: 0.9826\n",
      "Точность для 3: 0.9832\n",
      "Точность для 4: 0.9705\n",
      "Точность для 5: 0.9776\n",
      "Точность для 6: 0.9843\n",
      "Точность для 7: 0.9815\n",
      "Точность для 8: 0.9723\n",
      "Точность для 9: 0.9703\n"
     ]
    }
   ],
   "source": [
    "model.eval()  # режим оценки\n",
    "correct = 0\n",
    "total = 0\n",
    "\n",
    "class_correct = [0 for _ in range(10)]\n",
    "class_total = [0 for _ in range(10)]\n",
    "\n",
    "with torch.no_grad():\n",
    "    for inputs, labels in test_loader:\n",
    "        outputs = model(inputs)\n",
    "        preds = outputs.argmax(dim=1)\n",
    "\n",
    "        for i in range(len(labels)):\n",
    "            label = labels[i].item()\n",
    "            pred = preds[i].item()\n",
    "            if label == pred:\n",
    "                class_correct[label] += 1\n",
    "            class_total[label] += 1\n",
    "\n",
    "        correct += (preds == labels).sum().item()\n",
    "        total += labels.size(0)\n",
    "\n",
    "accuracy = correct / total\n",
    "print(f\"\\nОбщая точность: {accuracy:.4f}\")\n",
    "\n",
    "# Точность по каждому классу\n",
    "for i in range(10):\n",
    "    acc = class_correct[i] / class_total[i]\n",
    "    print(f\"Точность для {i}: {acc:.4f}\")\n"
   ]
  },
  {
   "cell_type": "markdown",
   "id": "e3fd2682",
   "metadata": {},
   "source": [
    "Модель показала отличную точность для всех примеров"
   ]
  },
  {
   "cell_type": "markdown",
   "id": "47a83d97",
   "metadata": {},
   "source": [
    "Посмотрим на ошибки модели"
   ]
  },
  {
   "cell_type": "code",
   "execution_count": 16,
   "id": "be638f87",
   "metadata": {},
   "outputs": [
    {
     "data": {
      "image/png": "[encoded data removed]",
      "text/plain": [
       "<Figure size 1000x400 with 10 Axes>"
      ]
     },
     "metadata": {},
     "output_type": "display_data"
    }
   ],
   "source": [
    "model.eval()\n",
    "wrong_images = []\n",
    "wrong_preds = []\n",
    "wrong_labels = []\n",
    "\n",
    "with torch.no_grad():\n",
    "    for inputs, labels in test_loader:\n",
    "        outputs = model(inputs)\n",
    "        preds = outputs.argmax(dim=1)\n",
    "\n",
    "        mask = preds != labels\n",
    "        if mask.any():\n",
    "            wrong_images.append(inputs[mask][0])        # первая ошибка\n",
    "            wrong_preds.append(preds[mask][0].item())\n",
    "            wrong_labels.append(labels[mask][0].item())\n",
    "\n",
    "        if len(wrong_images) >= 10:\n",
    "            break\n",
    "\n",
    "# Рисуем\n",
    "plt.figure(figsize=(10, 4))\n",
    "for i in range(10):\n",
    "    plt.subplot(2, 5, i+1)\n",
    "    img = wrong_images[i].view(28, 28)  # разворачиваем назад в картинку\n",
    "    plt.imshow(img, cmap=\"gray\")\n",
    "    plt.title(f\"Pred: {wrong_preds[i]}\\nTrue: {wrong_labels[i]}\")\n",
    "    plt.axis('off')\n",
    "plt.tight_layout()\n",
    "plt.show()\n"
   ]
  },
  {
   "cell_type": "code",
   "execution_count": null,
   "id": "22537e53",
   "metadata": {},
   "outputs": [],
   "source": [
    "# сохраняем модель для дальнейшего использования\n",
    "torch.save(model.state_dict(), \"my_model.pth\")\n"
   ]
  }
 ],
 "metadata": {
  "kernelspec": {
   "display_name": "torch_env",
   "language": "python",
   "name": "python3"
  },
  "language_info": {
   "codemirror_mode": {
    "name": "ipython",
    "version": 3
   },
   "file_extension": ".py",
   "mimetype": "text/x-python",
   "name": "python",
   "nbconvert_exporter": "python",
   "pygments_lexer": "ipython3",
   "version": "3.11.13"
  }
 },
 "nbformat": 4,
 "nbformat_minor": 5
}
